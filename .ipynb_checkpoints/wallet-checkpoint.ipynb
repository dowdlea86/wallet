{
 "cells": [
  {
   "cell_type": "code",
   "execution_count": 2,
   "metadata": {},
   "outputs": [
    {
     "name": "stdout",
     "output_type": "stream",
     "text": [
      "b''\n"
     ]
    }
   ],
   "source": [
    "#from constants import *\n",
    "from web3 import Web3, Account\n",
    "import subprocess\n",
    "import json\n",
    "import os\n",
    "from bit import PrivateKeyTestnet\n",
    "from bit.network import NetworkAPI\n",
    "BTC = 'btc'\n",
    "ETH = 'eth'\n",
    "BTCTEST = 'btc-test'\n",
    "\n",
    "`\n",
    "\n",
    "mnemonic = os.getenv('MNEMONIC', 'despair require order begin spatial glass guilt improve common where frost army venue stamp double')\n",
    "w3 = Web3(Web3.HTTPProvider('http://127.0.0.1:8545'))\n",
    "\n",
    "def derive_wallets(coin=BTC, mnemonic=mnemonic):\n",
    "    \n",
    "    command = f'./derive -g --mnemonic={mnemonic} --coin={coin} --numderive=3 --format=jsonpretty -g'\n",
    "\n",
    "    p = subprocess.Popen(command, stdout=subprocess.PIPE, shell=True)\n",
    "    (output, error) = p.communicate()\n",
    "    p_status = p.wait()\n",
    "    #print(json.loads(str(output)))\n",
    "    #keys = json.loads(output)\n",
    "    return output\n",
    "\n",
    "test = derive_wallets(coin = BTC)\n",
    "\n",
    "#print(coins[COINTYPE][0]['privkey'])\n",
    "\n",
    "coins = {'ETH':derive_wallets(coin=ETH), 'BTCTEST':derive_wallets(coin=BTCTEST)}\n",
    "\n",
    "def priv_key_to_account(coin, privkey):\n",
    "    if coin == ETH:\n",
    "        return Account.privateKeyToAccount(privkey)\n",
    "    elif coin == BTCTEST:\n",
    "        account = PrivateKeyTestnet(privkey)\n",
    "        print(account.address)\n",
    "        return PrivateKeyTestnet(privkey)\n",
    "\n",
    "        \n",
    "\n",
    "def create_tx(coin, account, to, amount):\n",
    "    if coin == ETH:\n",
    "        gas_estimate = w3.eth.estimateGas(\n",
    "            {'from': account.address, 'to': to, 'amount': amount}\n",
    "        )\n",
    "        return {\n",
    "            'from': account.address,\n",
    "            'to': recipient,\n",
    "            'value': amount,\n",
    "            'gasPrice': w3.eth.gasPrice,\n",
    "            'gas': gas_estimate,\n",
    "            'nonce': w3.eth.getTransactioncount(account.address),\n",
    "            'chainID': w3.net.chainID\n",
    "        }\n",
    "    if coin == BTCTEST:\n",
    "        return PrivateKeyTestnet.prepare_transaction(account.address, [(to, amount, BTC)])\n",
    "\n",
    "\n",
    "\n",
    "\n",
    "def send_tx(coin, account, to, amount):\n",
    "    if coin == ETH:    \n",
    "        raw_tx = create_tx(coin, account, to, amount)\n",
    "        signed_tx = account.signTransaction(raw_tx) \n",
    "        return web3.eth.sendRawTransaction(signed_tx.rawTransaction)\n",
    "    if coin == BTCTEST:\n",
    "        raw_tx = create_tx(coin, account, to, amount)\n",
    "        signed_tx = account.sign_transaction(raw_tx) \n",
    "        return NetworkAPI.broadcast_tx_testnet(signed_tx)\n"
   ]
  },
  {
   "cell_type": "code",
   "execution_count": 5,
   "metadata": {},
   "outputs": [
    {
     "name": "stdout",
     "output_type": "stream",
     "text": [
      "n45VqiDaT4R9WCe5fGMoW74ZsSaWWCgWyA\n"
     ]
    }
   ],
   "source": [
    "account = priv_key_to_account(BTCTEST, 'cRTceGbr1yp3XAPCUhmo1UsNByZ2rL5YPQrFgvEpWsPoyyo19qHD')"
   ]
  },
  {
   "cell_type": "code",
   "execution_count": 6,
   "metadata": {},
   "outputs": [
    {
     "name": "stdout",
     "output_type": "stream",
     "text": [
      "btc-test\n",
      "<PrivateKeyTestnet: n45VqiDaT4R9WCe5fGMoW74ZsSaWWCgWyA>\n",
      ".00001\n",
      "n25obABzVfPwnxNEB24JFFq1waNZnPQwA9\n",
      "<PrivateKeyTestnet: n45VqiDaT4R9WCe5fGMoW74ZsSaWWCgWyA>\n",
      "n25obABzVfPwnxNEB24JFFq1waNZnPQwA9\n",
      ".00001\n"
     ]
    }
   ],
   "source": [
    "send_tx(BTCTEST, account, 'n25obABzVfPwnxNEB24JFFq1waNZnPQwA9', '.00001')"
   ]
  },
  {
   "cell_type": "code",
   "execution_count": null,
   "metadata": {},
   "outputs": [],
   "source": []
  }
 ],
 "metadata": {
  "kernelspec": {
   "display_name": "ethereum",
   "language": "python",
   "name": "ethereum"
  },
  "language_info": {
   "codemirror_mode": {
    "name": "ipython",
    "version": 3
   },
   "file_extension": ".py",
   "mimetype": "text/x-python",
   "name": "python",
   "nbconvert_exporter": "python",
   "pygments_lexer": "ipython3",
   "version": "3.7.9"
  }
 },
 "nbformat": 4,
 "nbformat_minor": 4
}
