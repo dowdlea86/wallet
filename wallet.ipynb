{
 "cells": [
  {
   "cell_type": "code",
   "execution_count": 13,
   "metadata": {},
   "outputs": [
    {
     "name": "stdout",
     "output_type": "stream",
     "text": [
      "b\"\\n+-----------------+------------------------------------+-----------------------------------------------------------------------------------------------------------------+-----------------------------------------------------------------------------------------------------------------+------------------------------------------------------+--------------------------------------------------------------------+------------------------------------------+-------+\\n| path            | address                            | xprv                                                                                                            | xpub                                                                                                            | privkey                                              | pubkey                                                             | pubkeyhash                               | index |\\n+-----------------+------------------------------------+-----------------------------------------------------------------------------------------------------------------+-----------------------------------------------------------------------------------------------------------------+------------------------------------------------------+--------------------------------------------------------------------+------------------------------------------+-------+\\n| m/44'/0'/0'/0/0 | 1NBaqBR6WAgwf77AwAjBz3HKPh3qG7JWSJ | xprvA34PguMFSE71rdZcEky2gQwJqE1dgXeApP9GFPxV1uRAjEwUiiSXyhsgicvpMpYWNBMcQE3kJrdcwBfB4CcozssyX41vUrs26Eb7NJiKkaM | xpub6G3k6Qt9GbfK57e5LnW33Yt3PFr85zN2Bc4s3nN6aEx9c3GdGFknXWCAZv4UWKJz4eD1myvA4YXiKnKxqen89QtELX25NaJqbNm1mN8sc1s | L1DXGBbPuoDTR8HiwR7jGdenUSSj8orxa5m3ztCMXqSZyvq4o9Ci | 038c05ad376a9d84e27831a0f747ee2d859fe844f63bcaba370a88e735186917c1 | e85b0aa04ff146425d5db1e6a042c64ea580571d |     0 |\\n| m/44'/0'/0'/0/1 | 18DBbgs267ShdbyETBtBtczZGU81kpBZ8N | xprvA34PguMFSE71sfHq4iUE5pn1dfRx6UnUAtCHRwURwK9tTxHwxgVzR38CW1h4cWnzAaL9RHxgib9kLUjMSEU76Ce1YtzDsftckKs64fufH6d | xpub6G3k6Qt9GbfK69NJAk1ESxikBhGSVwWKY77tEKt3VegsLkd6WDpExqSgMJWwTWokPyY7Pk7qnkAD3vyE5tYwub9qeDwphojwvR9vBHFtHuH | L1cEJpPuv9D9T9HB3NNzQrot5NVtrfQpB2DNoogi23zFxDaVBFef | 036f546cdd02d680f90f04a1784621df3cae6d70b839fd75293592bfbe839b209e | 4f16b805e69c6ec7292c8162e7de0e062c4c31c4 |     1 |\\n| m/44'/0'/0'/0/2 | 1bP4uwUbrbcTVdBQgCGc9iAGYhutv2nzx  | xprvA34PguMFSE71vCdXeiuMSNCHy7nZsfoyWdR3kMc6QDu2Yq8Z3rn2upgpZ2pb896vwDiM2t28ofiMWMP1exFr1cCcVPrukiKy17ZFYBX33tH | xpub6G3k6Qt9GbfK8ghzkkSMoW92X9d4H8XpsrLeYk1hxZS1RdThbQ6HTd1JQGZbfFKbcPQN5Zci6XGPsejwchP1aFVJJQa5ftuuf1Fo2SZ16UA | L543yyKtkyt6tjsSJtMeAVGSaJy7yuv2GbWLwqYhw4senQQVQr6A | 023ffc4982ce9f42454e2743dc16bdce8459ab097fa50ff00985f9e2ba9b3d78b3 | 0680904df80be9061071f32f3f7f018ecd678967 |     2 |\\n| m/44'/0'/0'/0/3 | 16cUnNgvvfDPchx5WAiFNFz3JJne1UGSg7 | xprvA34PguMFSE71yoTQ3i4pieLC6BYE98HKRZva6WRw69sNotuXnUCB4be4h5ampfaTqUMJxZhXvsmtcNEnqA5dF9NRTmf6zLLnG8g8U6HAD5R | xpub6G3k6Qt9GbfKCHXs9jbq5nGveDNiYb1AnnrAttqYeVQMghEgL1WRcPxYYP9JshiXaj7GPXNkwp38uX2zaxwZRcsATBJ5J5yGPY7BJFACAB6 | KwFoeVwPmryLJXWxeEBU7GFC6fUsfrRfo7AEi1U7LuGTZeht8GVn | 034e55a9de17cf5e05665fad24598e70492bca0c8695796ef9615f935615bd9cd7 | 3d8e610bbd7844c8945cdd4c8894fa6f3755fa89 |     3 |\\n| m/44'/0'/0'/0/4 | 1NaTWRmwKPz5nGo2zxgrFHFMaKNCg1tvjz | xprvA34PguMFSE721BP51NQF3zUxg8W4X2VKCTuec9vHHTS8LYgbMgKG86h7VDY9nJWcT6WKmuaV8Fnk2GzAzAsPcpPrPxLL9eohzHzo8SqNiWb | xpub6G3k6Qt9GbfKDfTY7PwFR8RhEALYvVDAZgqFQYKtqny7DM1juDdWfu1bLUidqMDZyC3Wz7iwfvNPBp8fxeGeiPFQzdQizp1n7Denk4aJA6B | Kz6RVaQjnjmvjY8JVvvq92Xh5XiEZuRhNJZB7RsxdCQmE44jPCmL | 02698e9b22a76b6327a4dd69b0ede02b1e33f1f9167b2163f3674c75fdbdce5c93 | ecae7ed4a323443464b5fed8e32d194423f71417 |     4 |\\n| m/44'/0'/0'/0/5 | 1Ja7jT8b3JmMWZakE7LoCt8kF2BV1MVFkH | xprvA34PguMFSE725c4Fitxh24uPAgUsZBjoCAwdPQpkB3XMNfN3uJSBba3MnNC3eEScaN1RP8Z8pweHWBmhaYxMwb46LMrA7LSijPot1NdR3ie | xpub6G3k6Qt9GbfKJ68ipvVhPCr7iiKMxeTeZPsEBoEMjP4LFThCSqkS9NMqdcoyBeSoknK6unKD78VdBVPo1xt98WPaNwRqGYMGN53kAgEKoT7 | KzpQY11LEvfGmNPFHGVPptL6jhAaERzt63k7A1kKHS6nDL8k7yag | 023538e6e451a8b4c9974002112d757f7e53a87888c458aed287c5c6c108277d09 | c0bd7c0d1e0d4ef90ecaab9e8cd59a776b431834 |     5 |\\n| m/44'/0'/0'/0/6 | 12zTiKQAxnUsDrEpNpNtfuFmSAZudisxYH | xprvA34PguMFSE726bUmmpdTqUFXpA6KPxeZf4p8PLyZwuX9jXrJpBYNveKks9GXYCcPofDaoHeQNKzZtTrwLyc1qep4uhL5BFf2r3utHVMuy8H | xpub6G3k6Qt9GbfKK5ZEsrAUCcCGNBvooRNR2HjjBjPBWF48cLBTMirdUSeEiRxX74kuA5sR5khd2CPz5AZMBky2trv8yWfhFp2yKApaUaHnCYx | L5UpbCB7PgK7YXYkcbv6jTSBVPHoUmfqeQFFhyHskr89Me4jc5ot | 03d0f7531634302b3a200b7542648332a6101d4bb2c27909b58177f0b8118c46fe | 15d6224b9923745b2eeeb4e646ed5d9ef030c014 |     6 |\\n| m/44'/0'/0'/0/7 | 1WifGU2U2Lyzjzs7xtcNPLaVMyZ1xcAz4  | xprvA34PguMFSE728dNBsNK1ipWDGgBgzG1rxSdHqV5Du4edqvcJHwiX6auEbpxsjyRBf7uvozSvTiCj1Db1z9m8kmMhYBVoowZGGbuhkUZBoAs | xpub6G3k6Qt9GbfKM7SeyPr25xSwpi2BPijiKfYtdsUqTQBciiwSqV2mePDiT6Yap9ntrEdjdiC9kC7VYvCDdT56B3g6kuotWn1Bo3vfA1HexQM | L48fk1CA3qAmZ6rqzR71suUFNcCGFFWQJmy5B2Wer1afhXyRVjSU | 0316cbc0a409ef547ac7d685484a02bbea35da0082a5afa077848cba89ea337073 | 059ed6b61ff967815fab38ca4d9f2214234e599c |     7 |\\n| m/44'/0'/0'/0/8 | 12Z9Q4moPDcMGHuGvv7UmUuTSiu1pik4mc | xprvA34PguMFSE72BfryEAFfkJFHaWgfWSUQS5RawWc7DvD6Ejak7bXaj7hwUkSo9YqzLvoCUcDvK5V12CgSjtZYfU8tKrj6VEjKujjbwNo9tov | xpub6G3k6Qt9GbfKQ9wSLBng7SC28YX9uuCFoJMBju1inFk57Xutf8qqGv2RL1d8HqJcexxLxcT23J9U7fLatVNDXpaooZx6ibHomU6kPJfbhS5 | KwenhKMrn7WD7SAmuZGqecB7oWcASZaPPyppWT4eNqEJ7uA3dMtc | 0220589c0dd1c0d75366d43f25f8d103b1d59e457f06295b62f832189829bf6d36 | 110c72536e1403a19aacb0db81153cfda15070cb |     8 |\\n| m/44'/0'/0'/0/9 | 1PFe5bsYJxj4Tkvvq7z5ZjaFai5XmDFnHo | xprvA34PguMFSE72E5ma6eqctFBUK8ayMQUuARyETSNEMZhiTQwUGCnjbhJqkriL786txkbGWy8TCVBwS7vZiiGtUbdJggRJdvqEwZZEr6puKuW | xpub6G3k6Qt9GbfKSZr3CgNdFP8CsARTksCkXetqFpmquuEhLDGcok6z9VdKc8D3BR9vbCuTfFsWeLSatdsAn3hdMbqmwJUJCWcs2WADon1UaME | L4VXtMXGXw8GZyADEB34wyxPmnebfFTqPDzEtwmPif2pLXN8qcsF | 03162d27def4edc3af1b834c94d532f1dfd6b2fe3a13f29ad29564547d7cfb3376 | f4178b006f93bf8bf95b4fbd13f5776825941748 |     9 |\\n+-----------------+------------------------------------+-----------------------------------------------------------------------------------------------------------------+-----------------------------------------------------------------------------------------------------------------+------------------------------------------------------+--------------------------------------------------------------------+------------------------------------------+-------+\\n\\n\"\n"
     ]
    }
   ],
   "source": [
    "#from constants import *\n",
    "from web3 import Web3, Account\n",
    "import subprocess\n",
    "import json\n",
    "import os\n",
    "from bit import PrivateKeyTestnet\n",
    "from bit.network import NetworkAPI\n",
    "BTC = 'btc'\n",
    "ETH = 'eth'\n",
    "BTCTEST = 'btc-test'\n",
    "\n",
    "\n",
    "mnemonic = os.getenv('MNEMONIC', 'despair require order begin spatial glass guilt improve common where frost army venue stamp double')\n",
    "w3 = Web3(Web3.HTTPProvider('http://127.0.0.1:8545'))\n",
    "\n",
    "def derive_wallets(coin=BTC, mnemonic=mnemonic):\n",
    "    \n",
    "    command = f'./derive -g --mnemonic={mnemonic} --coin={coin} --numderive=3 --format=jsonpretty -g'\n",
    "\n",
    "    p = subprocess.Popen(command, stdout=subprocess.PIPE, shell=True)\n",
    "    (output, error) = p.communicate()\n",
    "    p_status = p.wait()\n",
    "    #print(json.loads(str(output)))\n",
    "    #keys = json.loads(output)\n",
    "    return output\n",
    "\n",
    "test = derive_wallets(coin = BTC)\n",
    "print(test)"
   ]
  },
  {
   "cell_type": "code",
   "execution_count": 14,
   "metadata": {},
   "outputs": [],
   "source": [
    "coins = {'ETH':derive_wallets(coin=ETH), 'BTCTEST':derive_wallets(coin=BTCTEST)}\n",
    "\n",
    "def priv_key_to_account(coin, privkey):\n",
    "    if coin == ETH:\n",
    "        return Account.privateKeyToAccount(privkey)\n",
    "    elif coin == BTCTEST:\n",
    "        account = PrivateKeyTestnet(privkey)\n",
    "        print(account.address)\n",
    "        return PrivateKeyTestnet(privkey)"
   ]
  },
  {
   "cell_type": "code",
   "execution_count": 15,
   "metadata": {},
   "outputs": [],
   "source": [
    "        \n",
    "\n",
    "def create_tx(coin, account, to, amount):\n",
    "    if coin == ETH:\n",
    "        gas_estimate = w3.eth.estimateGas(\n",
    "            {'from': account.address, 'to': to, 'amount': amount}\n",
    "        )\n",
    "        return {\n",
    "            'from': account.address,\n",
    "            'to': recipient,\n",
    "            'value': amount,\n",
    "            'gasPrice': w3.eth.gasPrice,\n",
    "            'gas': gas_estimate,\n",
    "            'nonce': w3.eth.getTransactioncount(account.address),\n",
    "            'chainID': w3.net.chainID\n",
    "        }\n",
    "    if coin == BTCTEST:\n",
    "        return PrivateKeyTestnet.prepare_transaction(account.address, [(to, amount, BTC)])"
   ]
  },
  {
   "cell_type": "code",
   "execution_count": 16,
   "metadata": {},
   "outputs": [],
   "source": [
    "def send_tx(coin, account, to, amount):\n",
    "    if coin == ETH:    \n",
    "        raw_tx = create_tx(coin, account, to, amount)\n",
    "        signed_tx = account.signTransaction(raw_tx) \n",
    "        return web3.eth.sendRawTransaction(signed_tx.rawTransaction)\n",
    "    if coin == BTCTEST:\n",
    "        raw_tx = create_tx(coin, account, to, amount)\n",
    "        signed_tx = account.sign_transaction(raw_tx) \n",
    "        return NetworkAPI.broadcast_tx_testnet(signed_tx)"
   ]
  },
  {
   "cell_type": "code",
   "execution_count": 5,
   "metadata": {},
   "outputs": [
    {
     "name": "stdout",
     "output_type": "stream",
     "text": [
      "n45VqiDaT4R9WCe5fGMoW74ZsSaWWCgWyA\n"
     ]
    }
   ],
   "source": [
    "account = priv_key_to_account(BTCTEST, 'cRTceGbr1yp3XAPCUhmo1UsNByZ2rL5YPQrFgvEpWsPoyyo19qHD')"
   ]
  },
  {
   "cell_type": "code",
   "execution_count": 6,
   "metadata": {},
   "outputs": [
    {
     "name": "stdout",
     "output_type": "stream",
     "text": [
      "btc-test\n",
      "<PrivateKeyTestnet: n45VqiDaT4R9WCe5fGMoW74ZsSaWWCgWyA>\n",
      ".00001\n",
      "n25obABzVfPwnxNEB24JFFq1waNZnPQwA9\n",
      "<PrivateKeyTestnet: n45VqiDaT4R9WCe5fGMoW74ZsSaWWCgWyA>\n",
      "n25obABzVfPwnxNEB24JFFq1waNZnPQwA9\n",
      ".00001\n"
     ]
    }
   ],
   "source": [
    "send_tx(BTCTEST, account, 'n25obABzVfPwnxNEB24JFFq1waNZnPQwA9', '.00001')"
   ]
  },
  {
   "cell_type": "code",
   "execution_count": null,
   "metadata": {},
   "outputs": [],
   "source": []
  }
 ],
 "metadata": {
  "kernelspec": {
   "display_name": "ethereum",
   "language": "python",
   "name": "ethereum"
  },
  "language_info": {
   "codemirror_mode": {
    "name": "ipython",
    "version": 3
   },
   "file_extension": ".py",
   "mimetype": "text/x-python",
   "name": "python",
   "nbconvert_exporter": "python",
   "pygments_lexer": "ipython3",
   "version": "3.7.9"
  }
 },
 "nbformat": 4,
 "nbformat_minor": 4
}
